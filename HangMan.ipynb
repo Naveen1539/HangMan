{
 "cells": [
  {
   "cell_type": "code",
   "execution_count": 2,
   "metadata": {},
   "outputs": [],
   "source": [
    "lst =list()"
   ]
  },
  {
   "cell_type": "code",
   "execution_count": 3,
   "metadata": {},
   "outputs": [
    {
     "data": {
      "text/plain": [
       "[]"
      ]
     },
     "execution_count": 3,
     "metadata": {},
     "output_type": "execute_result"
    }
   ],
   "source": [
    "lst"
   ]
  },
  {
   "cell_type": "code",
   "execution_count": 6,
   "metadata": {},
   "outputs": [
    {
     "name": "stdout",
     "output_type": "stream",
     "text": [
      "enter a valuehai buddy\n",
      "enter the chances 10\n",
      "There are  10 chances\n",
      "Lets begin the game\n",
      "enter position to guess1\n",
      "enter character at correct positionh\n",
      "['h', 'a', 'i', ' ', 'b', 'u', 'd', 'd', 'y']\n",
      "enter position to guess2\n",
      "enter character at correct positiona\n",
      "['h', 'a', 'i', ' ', 'b', 'u', 'd', 'd', 'y']\n",
      "enter position to guess3\n",
      "enter character at correct positioni\n",
      "['h', 'a', 'i', ' ', 'b', 'u', 'd', 'd', 'y']\n",
      "enter position to guess4\n",
      "enter character at correct position \n",
      "['h', 'a', 'i', ' ', 'b', 'u', 'd', 'd', 'y']\n",
      "enter position to guess5\n",
      "enter character at correct positionb\n",
      "['h', 'a', 'i', ' ', 'b', 'u', 'd', 'd', 'y']\n",
      "enter position to guess6\n",
      "enter character at correct positionu\n",
      "['h', 'a', 'i', ' ', 'b', 'u', 'd', 'd', 'y']\n",
      "enter position to guess7\n",
      "enter character at correct positiond\n",
      "['h', 'a', 'i', ' ', 'b', 'u', 'd', 'd', 'y']\n",
      "enter position to guess8\n",
      "enter character at correct positiond\n",
      "['h', 'a', 'i', ' ', 'b', 'u', 'd', 'd', 'y']\n",
      "enter position to guess9\n",
      "enter character at correct positiony\n",
      "['h', 'a', 'i', ' ', 'b', 'u', 'd', 'd', 'y']\n",
      "You win\n"
     ]
    }
   ],
   "source": [
    "inp = (input(\"enter a value\"))\n",
    "lmessage=list(inp)\n",
    "num = int(input(\"enter the chances \"))\n",
    "print(\"There are \",num,\"chances\")\n",
    "print(\"Lets begin the game\")\n",
    "ulst=[]*10\n",
    "k=0\n",
    "while True:\n",
    "    if ulst == lmessage:\n",
    "        print(\"You win\")\n",
    "        break\n",
    "    elif num<=0 :\n",
    "        print(\"You lost\")\n",
    "        break\n",
    "    else:\n",
    "        np = int(input(\"enter position to guess\"))\n",
    "        n= input(\"enter character at correct position\")\n",
    "        if lmessage[np-1]==n:\n",
    "            ulst.insert(np-1,n)\n",
    "            num=num-1\n",
    "            k=k+1\n",
    "            print(lmessage)\n",
    "        else:\n",
    "            num=num-1\n",
    "            print(\"try again..you have only\",num,\"chaneces left\")\n",
    "            print(lmessage)\n"
   ]
  },
  {
   "cell_type": "code",
   "execution_count": null,
   "metadata": {},
   "outputs": [],
   "source": []
  },
  {
   "cell_type": "code",
   "execution_count": null,
   "metadata": {},
   "outputs": [],
   "source": [
    "ls = [2,3,4]\n",
    "len(ls)"
   ]
  },
  {
   "cell_type": "code",
   "execution_count": null,
   "metadata": {},
   "outputs": [],
   "source": []
  }
 ],
 "metadata": {
  "kernelspec": {
   "display_name": "Python 3",
   "language": "python",
   "name": "python3"
  },
  "language_info": {
   "codemirror_mode": {
    "name": "ipython",
    "version": 3
   },
   "file_extension": ".py",
   "mimetype": "text/x-python",
   "name": "python",
   "nbconvert_exporter": "python",
   "pygments_lexer": "ipython3",
   "version": "3.7.6"
  }
 },
 "nbformat": 4,
 "nbformat_minor": 4
}
